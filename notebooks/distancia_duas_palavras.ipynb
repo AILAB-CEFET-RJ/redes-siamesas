{
 "cells": [
  {
   "cell_type": "code",
   "execution_count": 1,
   "metadata": {},
   "outputs": [],
   "source": [
    "import os, sys\n",
    "import gensim\n",
    "import logging\n",
    "import pandas as pd\n",
    "import numpy as np\n",
    "from sklearn.metrics.pairwise import euclidean_distances\n",
    "import matplotlib.pyplot as plt\n",
    "import mysql.connector"
   ]
  },
  {
   "cell_type": "code",
   "execution_count": 3,
   "metadata": {},
   "outputs": [],
   "source": [
    "DATA_DIR = os.environ[\"DATA_DIR\"]\n",
    "\n",
    "VECTORS_FILE = os.path.join(DATA_DIR, \"GoogleNews-vectors-negative300.bin\")\n",
    "WORDS_FILE = os.path.join(DATA_DIR, 'questions-words.txt')\n",
    "\n",
    "DISTANCES_FOLDER = os.path.join(DATA_DIR, 'distances')\n",
    "\n",
    "labels = pd.read_csv(os.path.join(DATA_DIR, \"imagenet_labels.csv\"), header=0)\n",
    "nouns = pd.read_csv(os.path.join(DATA_DIR, \"vqa_nouns.csv\"), header=0)"
   ]
  },
  {
   "cell_type": "code",
   "execution_count": 4,
   "metadata": {},
   "outputs": [],
   "source": [
    "model = gensim.models.KeyedVectors.load_word2vec_format(VECTORS_FILE, binary=True)\n",
    "logging.basicConfig(format='%(asctime)s : %(levelname)s : %(message)s', level=logging.INFO)"
   ]
  },
  {
   "cell_type": "code",
   "execution_count": null,
   "metadata": {},
   "outputs": [],
   "source": []
  }
 ],
 "metadata": {
  "kernelspec": {
   "display_name": "Python 3",
   "language": "python",
   "name": "python3"
  },
  "language_info": {
   "codemirror_mode": {
    "name": "ipython",
    "version": 3
   },
   "file_extension": ".py",
   "mimetype": "text/x-python",
   "name": "python",
   "nbconvert_exporter": "python",
   "pygments_lexer": "ipython3",
   "version": "3.6.5"
  }
 },
 "nbformat": 4,
 "nbformat_minor": 2
}
