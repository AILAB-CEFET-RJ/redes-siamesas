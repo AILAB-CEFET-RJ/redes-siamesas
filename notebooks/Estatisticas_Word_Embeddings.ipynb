{
 "cells": [
  {
   "cell_type": "code",
   "execution_count": 30,
   "metadata": {},
   "outputs": [],
   "source": [
    "import os, sys\n",
    "import gensim\n",
    "import logging\n",
    "import pandas as pd\n",
    "import numpy as np\n",
    "import matplotlib.pyplot as plt"
   ]
  },
  {
   "cell_type": "code",
   "execution_count": 7,
   "metadata": {},
   "outputs": [],
   "source": [
    "DATA_DIR = os.environ[\"DATA_DIR\"]\n",
    "DISTANCE_VECTORS_FILE = os.path.join(DATA_DIR, \"distance_vectors_word.csv\")\n",
    "IMAGENET_LABELS_FILE = os.path.join(DATA_DIR, 'imagenet_labels.csv')\n",
    "VQA_QUESTIONS_FILE = os.path.join(DATA_DIR, 'imagenet_labels.csv')"
   ]
  },
  {
   "cell_type": "code",
   "execution_count": 14,
   "metadata": {},
   "outputs": [
    {
     "data": {
      "text/html": [
       "<div>\n",
       "<style scoped>\n",
       "    .dataframe tbody tr th:only-of-type {\n",
       "        vertical-align: middle;\n",
       "    }\n",
       "\n",
       "    .dataframe tbody tr th {\n",
       "        vertical-align: top;\n",
       "    }\n",
       "\n",
       "    .dataframe thead th {\n",
       "        text-align: right;\n",
       "    }\n",
       "</style>\n",
       "<table border=\"1\" class=\"dataframe\">\n",
       "  <thead>\n",
       "    <tr style=\"text-align: right;\">\n",
       "      <th></th>\n",
       "      <th>Unnamed: 0</th>\n",
       "      <th>image</th>\n",
       "      <th>question_id</th>\n",
       "      <th>noun</th>\n",
       "      <th>label</th>\n",
       "      <th>distance</th>\n",
       "    </tr>\n",
       "  </thead>\n",
       "  <tbody>\n",
       "    <tr>\n",
       "      <th>0</th>\n",
       "      <td>0</td>\n",
       "      <td>COCO_train2014_000000487025.jpg</td>\n",
       "      <td>4870251.0</td>\n",
       "      <td>shadow</td>\n",
       "      <td>Aeroplane</td>\n",
       "      <td>4.100511</td>\n",
       "    </tr>\n",
       "    <tr>\n",
       "      <th>1</th>\n",
       "      <td>1</td>\n",
       "      <td>COCO_train2014_000000487025.jpg</td>\n",
       "      <td>4870251.0</td>\n",
       "      <td>shadow</td>\n",
       "      <td>Bicycle</td>\n",
       "      <td>4.566589</td>\n",
       "    </tr>\n",
       "    <tr>\n",
       "      <th>2</th>\n",
       "      <td>2</td>\n",
       "      <td>COCO_train2014_000000487025.jpg</td>\n",
       "      <td>4870251.0</td>\n",
       "      <td>shadow</td>\n",
       "      <td>Bird</td>\n",
       "      <td>3.909102</td>\n",
       "    </tr>\n",
       "    <tr>\n",
       "      <th>3</th>\n",
       "      <td>3</td>\n",
       "      <td>COCO_train2014_000000487025.jpg</td>\n",
       "      <td>4870251.0</td>\n",
       "      <td>shadow</td>\n",
       "      <td>Boat</td>\n",
       "      <td>4.427794</td>\n",
       "    </tr>\n",
       "    <tr>\n",
       "      <th>4</th>\n",
       "      <td>4</td>\n",
       "      <td>COCO_train2014_000000487025.jpg</td>\n",
       "      <td>4870251.0</td>\n",
       "      <td>shadow</td>\n",
       "      <td>Bottle</td>\n",
       "      <td>4.373955</td>\n",
       "    </tr>\n",
       "  </tbody>\n",
       "</table>\n",
       "</div>"
      ],
      "text/plain": [
       "   Unnamed: 0                            image  question_id    noun  \\\n",
       "0           0  COCO_train2014_000000487025.jpg    4870251.0  shadow   \n",
       "1           1  COCO_train2014_000000487025.jpg    4870251.0  shadow   \n",
       "2           2  COCO_train2014_000000487025.jpg    4870251.0  shadow   \n",
       "3           3  COCO_train2014_000000487025.jpg    4870251.0  shadow   \n",
       "4           4  COCO_train2014_000000487025.jpg    4870251.0  shadow   \n",
       "\n",
       "       label  distance  \n",
       "0  Aeroplane  4.100511  \n",
       "1    Bicycle  4.566589  \n",
       "2       Bird  3.909102  \n",
       "3       Boat  4.427794  \n",
       "4     Bottle  4.373955  "
      ]
     },
     "execution_count": 14,
     "metadata": {},
     "output_type": "execute_result"
    }
   ],
   "source": [
    "df = pd.read_csv(DISTANCE_VECTORS_FILE)\n",
    "df.head(5)"
   ]
  },
  {
   "cell_type": "code",
   "execution_count": 44,
   "metadata": {},
   "outputs": [
    {
     "name": "stdout",
     "output_type": "stream",
     "text": [
      "Mean 4.153759518347211\n",
      "Standart Deviation 0.3833083850081495\n",
      "Variance 0.1469253180175558\n",
      "Amplitude 6.60667896270752\n"
     ]
    }
   ],
   "source": [
    "distances = df[\"distance\"].values\n",
    "print(\"Mean\", distances.mean())\n",
    "print(\"Standart Deviation\", distances.std())\n",
    "print(\"Variance\", distances.var())\n",
    "print(\"Amplitude\", distances.ptp())"
   ]
  },
  {
   "cell_type": "code",
   "execution_count": 42,
   "metadata": {
    "scrolled": true
   },
   "outputs": [
    {
     "data": {
      "text/plain": [
       "<Container object of 50 artists>"
      ]
     },
     "execution_count": 42,
     "metadata": {},
     "output_type": "execute_result"
    },
    {
     "data": {
      "image/png": "[encoded data removed]",
      "text/plain": [
       "<matplotlib.figure.Figure at 0x7fd3b7225550>"
      ]
     },
     "metadata": {},
     "output_type": "display_data"
    }
   ],
   "source": [
    "hist, bins = np.histogram(distances, bins=50)\n",
    "center = (bins[:-1] + bins[1:]) / 2\n",
    "width = 0.5 * (bins[1] - bins[0])\n",
    "\n",
    "plt.figure(figsize=(12,6))\n",
    "plt.bar(center, hist, align='center', width=width)"
   ]
  }
 ],
 "metadata": {
  "kernelspec": {
   "display_name": "Python 3",
   "language": "python",
   "name": "python3"
  },
  "language_info": {
   "codemirror_mode": {
    "name": "ipython",
    "version": 3
   },
   "file_extension": ".py",
   "mimetype": "text/x-python",
   "name": "python",
   "nbconvert_exporter": "python",
   "pygments_lexer": "ipython3",
   "version": "3.6.4"
  }
 },
 "nbformat": 4,
 "nbformat_minor": 2
}
