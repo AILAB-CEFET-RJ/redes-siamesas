{
 "cells": [
  {
   "cell_type": "code",
   "execution_count": 9,
   "metadata": {},
   "outputs": [],
   "source": [
    "import os, sys\n",
    "import gensim\n",
    "import logging\n",
    "import pandas as pd\n",
    "import numpy as np\n",
    "import matplotlib.pyplot as plt\n",
    "%matplotlib inline"
   ]
  },
  {
   "cell_type": "code",
   "execution_count": 10,
   "metadata": {},
   "outputs": [],
   "source": [
    "DATA_DIR = os.environ[\"DATA_DIR\"]\n",
    "DISTANCE_VECTORS_FILE = os.path.join(DATA_DIR, \"distance_vectors_word.csv\")\n",
    "IMAGENET_LABELS_FILE = os.path.join(DATA_DIR, 'imagenet_labels.csv')\n",
    "VQA_QUESTIONS_FILE = os.path.join(DATA_DIR, 'vqa_nouns.csv')"
   ]
  },
  {
   "cell_type": "code",
   "execution_count": 11,
   "metadata": {},
   "outputs": [
    {
     "data": {
      "text/html": [
       "<div>\n",
       "<style scoped>\n",
       "    .dataframe tbody tr th:only-of-type {\n",
       "        vertical-align: middle;\n",
       "    }\n",
       "\n",
       "    .dataframe tbody tr th {\n",
       "        vertical-align: top;\n",
       "    }\n",
       "\n",
       "    .dataframe thead th {\n",
       "        text-align: right;\n",
       "    }\n",
       "</style>\n",
       "<table border=\"1\" class=\"dataframe\">\n",
       "  <thead>\n",
       "    <tr style=\"text-align: right;\">\n",
       "      <th></th>\n",
       "      <th>Unnamed: 0</th>\n",
       "      <th>image</th>\n",
       "      <th>question_id</th>\n",
       "      <th>noun</th>\n",
       "      <th>label</th>\n",
       "      <th>distance</th>\n",
       "    </tr>\n",
       "  </thead>\n",
       "  <tbody>\n",
       "    <tr>\n",
       "      <th>0</th>\n",
       "      <td>0</td>\n",
       "      <td>COCO_train2014_000000487025.jpg</td>\n",
       "      <td>4870251.0</td>\n",
       "      <td>shadow</td>\n",
       "      <td>Aeroplane</td>\n",
       "      <td>4.100511</td>\n",
       "    </tr>\n",
       "    <tr>\n",
       "      <th>1</th>\n",
       "      <td>1</td>\n",
       "      <td>COCO_train2014_000000487025.jpg</td>\n",
       "      <td>4870251.0</td>\n",
       "      <td>shadow</td>\n",
       "      <td>Bicycle</td>\n",
       "      <td>4.566589</td>\n",
       "    </tr>\n",
       "    <tr>\n",
       "      <th>2</th>\n",
       "      <td>2</td>\n",
       "      <td>COCO_train2014_000000487025.jpg</td>\n",
       "      <td>4870251.0</td>\n",
       "      <td>shadow</td>\n",
       "      <td>Bird</td>\n",
       "      <td>3.909102</td>\n",
       "    </tr>\n",
       "    <tr>\n",
       "      <th>3</th>\n",
       "      <td>3</td>\n",
       "      <td>COCO_train2014_000000487025.jpg</td>\n",
       "      <td>4870251.0</td>\n",
       "      <td>shadow</td>\n",
       "      <td>Boat</td>\n",
       "      <td>4.427794</td>\n",
       "    </tr>\n",
       "    <tr>\n",
       "      <th>4</th>\n",
       "      <td>4</td>\n",
       "      <td>COCO_train2014_000000487025.jpg</td>\n",
       "      <td>4870251.0</td>\n",
       "      <td>shadow</td>\n",
       "      <td>Bottle</td>\n",
       "      <td>4.373955</td>\n",
       "    </tr>\n",
       "  </tbody>\n",
       "</table>\n",
       "</div>"
      ],
      "text/plain": [
       "   Unnamed: 0                            image  question_id    noun  \\\n",
       "0           0  COCO_train2014_000000487025.jpg    4870251.0  shadow   \n",
       "1           1  COCO_train2014_000000487025.jpg    4870251.0  shadow   \n",
       "2           2  COCO_train2014_000000487025.jpg    4870251.0  shadow   \n",
       "3           3  COCO_train2014_000000487025.jpg    4870251.0  shadow   \n",
       "4           4  COCO_train2014_000000487025.jpg    4870251.0  shadow   \n",
       "\n",
       "       label  distance  \n",
       "0  Aeroplane  4.100511  \n",
       "1    Bicycle  4.566589  \n",
       "2       Bird  3.909102  \n",
       "3       Boat  4.427794  \n",
       "4     Bottle  4.373955  "
      ]
     },
     "execution_count": 11,
     "metadata": {},
     "output_type": "execute_result"
    }
   ],
   "source": [
    "df_distance = pd.read_csv(DISTANCE_VECTORS_FILE)\n",
    "df_distance.head(5)"
   ]
  },
  {
   "cell_type": "code",
   "execution_count": 12,
   "metadata": {},
   "outputs": [
    {
     "data": {
      "text/html": [
       "<div>\n",
       "<style scoped>\n",
       "    .dataframe tbody tr th:only-of-type {\n",
       "        vertical-align: middle;\n",
       "    }\n",
       "\n",
       "    .dataframe tbody tr th {\n",
       "        vertical-align: top;\n",
       "    }\n",
       "\n",
       "    .dataframe thead th {\n",
       "        text-align: right;\n",
       "    }\n",
       "</style>\n",
       "<table border=\"1\" class=\"dataframe\">\n",
       "  <thead>\n",
       "    <tr style=\"text-align: right;\">\n",
       "      <th></th>\n",
       "      <th>image</th>\n",
       "      <th>label</th>\n",
       "    </tr>\n",
       "  </thead>\n",
       "  <tbody>\n",
       "    <tr>\n",
       "      <th>0</th>\n",
       "      <td>n02124075_10012.JPEG</td>\n",
       "      <td>Cat</td>\n",
       "    </tr>\n",
       "    <tr>\n",
       "      <th>1</th>\n",
       "      <td>n02124075_10024.JPEG</td>\n",
       "      <td>Cat</td>\n",
       "    </tr>\n",
       "    <tr>\n",
       "      <th>2</th>\n",
       "      <td>n02124075_10033.JPEG</td>\n",
       "      <td>Cat</td>\n",
       "    </tr>\n",
       "    <tr>\n",
       "      <th>3</th>\n",
       "      <td>n02124075_10034.JPEG</td>\n",
       "      <td>Cat</td>\n",
       "    </tr>\n",
       "    <tr>\n",
       "      <th>4</th>\n",
       "      <td>n02124075_10035.JPEG</td>\n",
       "      <td>Cat</td>\n",
       "    </tr>\n",
       "  </tbody>\n",
       "</table>\n",
       "</div>"
      ],
      "text/plain": [
       "                  image label\n",
       "0  n02124075_10012.JPEG   Cat\n",
       "1  n02124075_10024.JPEG   Cat\n",
       "2  n02124075_10033.JPEG   Cat\n",
       "3  n02124075_10034.JPEG   Cat\n",
       "4  n02124075_10035.JPEG   Cat"
      ]
     },
     "execution_count": 12,
     "metadata": {},
     "output_type": "execute_result"
    }
   ],
   "source": [
    "df_imagenet = pd.read_csv(IMAGENET_LABELS_FILE)\n",
    "df_imagenet.head(5)"
   ]
  },
  {
   "cell_type": "code",
   "execution_count": 13,
   "metadata": {},
   "outputs": [
    {
     "data": {
      "text/html": [
       "<div>\n",
       "<style scoped>\n",
       "    .dataframe tbody tr th:only-of-type {\n",
       "        vertical-align: middle;\n",
       "    }\n",
       "\n",
       "    .dataframe tbody tr th {\n",
       "        vertical-align: top;\n",
       "    }\n",
       "\n",
       "    .dataframe thead th {\n",
       "        text-align: right;\n",
       "    }\n",
       "</style>\n",
       "<table border=\"1\" class=\"dataframe\">\n",
       "  <thead>\n",
       "    <tr style=\"text-align: right;\">\n",
       "      <th></th>\n",
       "      <th>image</th>\n",
       "      <th>question_id</th>\n",
       "      <th>noun</th>\n",
       "    </tr>\n",
       "  </thead>\n",
       "  <tbody>\n",
       "    <tr>\n",
       "      <th>0</th>\n",
       "      <td>COCO_train2014_000000487025.jpg</td>\n",
       "      <td>4870251.0</td>\n",
       "      <td>shadow</td>\n",
       "    </tr>\n",
       "    <tr>\n",
       "      <th>1</th>\n",
       "      <td>COCO_train2014_000000487025.jpg</td>\n",
       "      <td>4870252.0</td>\n",
       "      <td>bench</td>\n",
       "    </tr>\n",
       "    <tr>\n",
       "      <th>2</th>\n",
       "      <td>COCO_train2014_000000078077.jpg</td>\n",
       "      <td>780770.0</td>\n",
       "      <td>train</td>\n",
       "    </tr>\n",
       "    <tr>\n",
       "      <th>3</th>\n",
       "      <td>COCO_train2014_000000078077.jpg</td>\n",
       "      <td>780771.0</td>\n",
       "      <td>color</td>\n",
       "    </tr>\n",
       "    <tr>\n",
       "      <th>4</th>\n",
       "      <td>COCO_train2014_000000078077.jpg</td>\n",
       "      <td>780771.0</td>\n",
       "      <td>stripe</td>\n",
       "    </tr>\n",
       "  </tbody>\n",
       "</table>\n",
       "</div>"
      ],
      "text/plain": [
       "                             image  question_id    noun\n",
       "0  COCO_train2014_000000487025.jpg    4870251.0  shadow\n",
       "1  COCO_train2014_000000487025.jpg    4870252.0   bench\n",
       "2  COCO_train2014_000000078077.jpg     780770.0   train\n",
       "3  COCO_train2014_000000078077.jpg     780771.0   color\n",
       "4  COCO_train2014_000000078077.jpg     780771.0  stripe"
      ]
     },
     "execution_count": 13,
     "metadata": {},
     "output_type": "execute_result"
    }
   ],
   "source": [
    "df_vqa = pd.read_csv(VQA_QUESTIONS_FILE)\n",
    "df_vqa.head(5)"
   ]
  },
  {
   "cell_type": "code",
   "execution_count": 23,
   "metadata": {},
   "outputs": [
    {
     "name": "stdout",
     "output_type": "stream",
     "text": [
      "COCO_train2014_000000487025.jpg\n"
     ]
    },
    {
     "ename": "SystemExit",
     "evalue": "",
     "output_type": "error",
     "traceback": [
      "An exception has occurred, use %tb to see the full traceback.\n",
      "\u001b[0;31mSystemExit\u001b[0m\n"
     ]
    },
    {
     "name": "stderr",
     "output_type": "stream",
     "text": [
      "/home/rsilva/anaconda3/envs/venv/lib/python3.6/site-packages/IPython/core/interactiveshell.py:2971: UserWarning: To exit: use 'exit', 'quit', or Ctrl-D.\n",
      "  warn(\"To exit: use 'exit', 'quit', or Ctrl-D.\", stacklevel=1)\n"
     ]
    }
   ],
   "source": [
    "distances = []\n",
    "i = 0\n",
    "for index, row in df_vqa.iterrows():\n",
    "    for _idx, _row in df_imagenet.iterrows():\n",
    "        print(row[\"image\"])\n",
    "        sys.exit()\n"
   ]
  }
 ],
 "metadata": {
  "kernelspec": {
   "display_name": "Python 3",
   "language": "python",
   "name": "python3"
  },
  "language_info": {
   "codemirror_mode": {
    "name": "ipython",
    "version": 3
   },
   "file_extension": ".py",
   "mimetype": "text/x-python",
   "name": "python",
   "nbconvert_exporter": "python",
   "pygments_lexer": "ipython3",
   "version": "3.6.5"
  }
 },
 "nbformat": 4,
 "nbformat_minor": 2
}
