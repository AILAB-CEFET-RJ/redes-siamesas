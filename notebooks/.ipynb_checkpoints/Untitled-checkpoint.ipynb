{
 "cells": [
  {
   "cell_type": "code",
   "execution_count": 1,
   "metadata": {},
   "outputs": [],
   "source": [
    "import os, sys\n",
    "import gensim\n",
    "import logging\n",
    "import pandas as pd\n",
    "import numpy as np\n",
    "from sklearn.metrics.pairwise import euclidean_distances\n",
    "import matplotlib.pyplot as plt"
   ]
  },
  {
   "cell_type": "code",
   "execution_count": 2,
   "metadata": {},
   "outputs": [],
   "source": [
    "DATA_DIR = os.environ[\"DATA_DIR\"]\n",
    "VECTORS_FILE = os.path.join(DATA_DIR, \"GoogleNews-vectors-negative300.bin\")\n",
    "WORDS_FILE = os.path.join(DATA_DIR, 'questions-words.txt')"
   ]
  },
  {
   "cell_type": "code",
   "execution_count": 3,
   "metadata": {},
   "outputs": [
    {
     "name": "stderr",
     "output_type": "stream",
     "text": [
      "2018-07-27 21:32:41,062 : INFO : loading projection weights from /mnt/Dados/datasets/GoogleNews-vectors-negative300.bin\n",
      "2018-07-27 21:33:26,973 : INFO : loaded (3000000, 300) matrix from /mnt/Dados/datasets/GoogleNews-vectors-negative300.bin\n",
      "2018-07-27 21:33:26,989 : INFO : precomputing L2-norms of word weight vectors\n",
      "2018-07-27 21:33:32,843 : INFO : capital-common-countries: 83.6% (423/506)\n",
      "2018-07-27 21:33:37,332 : INFO : capital-world: 82.7% (1144/1383)\n",
      "2018-07-27 21:33:37,757 : INFO : currency: 39.8% (51/128)\n",
      "2018-07-27 21:33:46,232 : INFO : city-in-state: 74.6% (1739/2330)\n",
      "2018-07-27 21:33:47,496 : INFO : family: 90.1% (308/342)\n",
      "2018-07-27 21:33:50,188 : INFO : gram1-adjective-to-adverb: 32.3% (262/812)\n",
      "2018-07-27 21:33:51,420 : INFO : gram2-opposite: 50.5% (192/380)\n",
      "2018-07-27 21:33:55,663 : INFO : gram3-comparative: 91.9% (1224/1332)\n",
      "2018-07-27 21:33:57,922 : INFO : gram4-superlative: 88.0% (618/702)\n",
      "2018-07-27 21:34:00,715 : INFO : gram5-present-participle: 79.8% (694/870)\n",
      "2018-07-27 21:34:04,643 : INFO : gram6-nationality-adjective: 97.1% (1193/1229)\n",
      "2018-07-27 21:34:09,410 : INFO : gram7-past-tense: 66.5% (986/1482)\n",
      "2018-07-27 21:34:12,588 : INFO : gram8-plural: 85.6% (849/992)\n",
      "2018-07-27 21:34:14,859 : INFO : gram9-plural-verbs: 68.9% (484/702)\n",
      "2018-07-27 21:34:14,860 : INFO : total: 77.1% (10167/13190)\n"
     ]
    }
   ],
   "source": [
    "DISTANCES_FOLDER = os.path.join(DATA_DIR, 'distances')\n",
    "\n",
    "logging.basicConfig(format='%(asctime)s : %(levelname)s : %(message)s', level=logging.INFO)\n",
    "\n",
    "model = gensim.models.KeyedVectors.load_word2vec_format(VECTORS_FILE, binary=True)\n",
    "model.accuracy(WORDS_FILE)"
   ]
  },
  {
   "cell_type": "code",
   "execution_count": 61,
   "metadata": {},
   "outputs": [
    {
     "data": {
      "text/plain": [
       "(80828, 2352)"
      ]
     },
     "execution_count": 61,
     "metadata": {},
     "output_type": "execute_result"
    }
   ],
   "source": [
    "labels = pd.read_csv(os.path.join(DATA_DIR, \"label_all.csv\"), names=['imagenet_img_id', 'label'])\n",
    "nouns = pd.read_csv(os.path.join(DATA_DIR, \"vqa_nouns.csv\"), names=['vqa_img_id', 'imagenet_img_id', 'noun'])\n",
    "\n",
    "nouns_vectors = []\n",
    "\n",
    "for index, row in nouns.iterrows():\n",
    "    noun = str(row[\"noun\"]).lower()\n",
    "    if noun in model:        \n",
    "        nouns_vectors.append( model[noun] )\n",
    "\n",
    "labels_vectors = []\n",
    "for k, v in labels.iterrows():    \n",
    "    label = str(v[\"label\"]).lower()\n",
    "    if label in model:\n",
    "        labels_vectors.append( model[label] )\n",
    "\n",
    "distances = euclidean_distances(nouns_vectors, labels_vectors)\n",
    "tam_i, tam_j = distances.shape\n",
    "\n",
    "nouns_arr = nouns.values\n",
    "labels_arr = labels.values\n",
    "\n",
    "del nouns\n",
    "del labels\n",
    "del nouns_vectors\n",
    "del labels_vectors\n",
    "\n",
    "distances.shape"
   ]
  },
  {
   "cell_type": "code",
   "execution_count": null,
   "metadata": {},
   "outputs": [],
   "source": [
    "data = []\n",
    "for i in range(0, tam_i):\n",
    "    for j in range(0, tam_j):\n",
    "        data.append([nouns_arr[i,0], nouns_arr[i,1], nouns_arr[i,2], labels_arr[j,0], labels_arr[j, 1], distances[i,j]])\n",
    "\n",
    "df = pd.DataFrame(data, columns=['vqa_image', 'question_id', 'noun', 'imagenet_img', 'label', 'distance'])\n",
    "df.head(5)"
   ]
  }
 ],
 "metadata": {
  "kernelspec": {
   "display_name": "Python 3",
   "language": "python",
   "name": "python3"
  },
  "language_info": {
   "codemirror_mode": {
    "name": "ipython",
    "version": 3
   },
   "file_extension": ".py",
   "mimetype": "text/x-python",
   "name": "python",
   "nbconvert_exporter": "python",
   "pygments_lexer": "ipython3",
   "version": "3.6.5"
  }
 },
 "nbformat": 4,
 "nbformat_minor": 2
}
